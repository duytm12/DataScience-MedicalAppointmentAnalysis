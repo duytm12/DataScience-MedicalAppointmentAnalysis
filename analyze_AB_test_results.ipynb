{
 "cells": [
  {
   "cell_type": "markdown",
   "id": "0055db94",
   "metadata": {},
   "source": [
    "## Analyze A/B Test Results\n",
    "\n",
    "This project will assure you have mastered the subjects covered in the statistics lessons.  The hope is to have this project be as comprehensive of these topics as possible.  Good luck!\n",
    "\n",
    "Corresponding with this notebook is a slide deck where you will need to update all the portions in red.  Completing the notebook will provide all the results needed for the slides.  **Correctly completing the slides is a required part of the project.**\n",
    "\n",
    "## Table of Contents\n",
    "- [Introduction](#intro)\n",
    "- [Part I - Descriptive Statistics](#descriptive)\n",
    "- [Part II - Probability](#probability)\n",
    "- [Part III - Experimentation](#experimentation)\n",
    "- [Part IV - Algorithms](#algorithms)\n",
    "\n",
    "\n",
    "<a id='intro'></a>\n",
    "### Introduction\n",
    "\n",
    "This analysis examines the results of an A/B test designed to optimize conversion rates across different geographic markets. The dataset contains 69,889 user interactions from a digital marketing campaign or website optimization experiment.\n",
    "\n"
   ]
  },
  {
   "cell_type": "markdown",
   "id": "f5fa0b84",
   "metadata": {},
   "source": [
    "<a id='descriptive'></a>\n",
    "#### Part I - Descriptive Statistics\n",
    "\n",
    "To get started, let's import our libraries."
   ]
  },
  {
   "cell_type": "code",
   "execution_count": 1,
   "id": "abb359ec",
   "metadata": {},
   "outputs": [],
   "source": [
    "import pandas as pd\n",
    "import numpy as np\n",
    "import random\n",
    "import matplotlib.pyplot as plt\n",
    "%matplotlib inline\n",
    "#We are setting the seed to assure you get the same answers on quizzes as we set up\n",
    "random.seed(0)\n",
    "import statsmodels.api as sm"
   ]
  },
  {
   "cell_type": "markdown",
   "id": "a01087e9",
   "metadata": {},
   "source": [
    "`1.a)` Now, read in the `ab_data.csv` data. Store it in `df`. Read in the dataset and take a look at the top few rows here."
   ]
  },
  {
   "cell_type": "code",
   "execution_count": 2,
   "id": "7e6c971a",
   "metadata": {},
   "outputs": [
    {
     "data": {
      "text/html": [
       "<div>\n",
       "<style scoped>\n",
       "    .dataframe tbody tr th:only-of-type {\n",
       "        vertical-align: middle;\n",
       "    }\n",
       "\n",
       "    .dataframe tbody tr th {\n",
       "        vertical-align: top;\n",
       "    }\n",
       "\n",
       "    .dataframe thead th {\n",
       "        text-align: right;\n",
       "    }\n",
       "</style>\n",
       "<table border=\"1\" class=\"dataframe\">\n",
       "  <thead>\n",
       "    <tr style=\"text-align: right;\">\n",
       "      <th></th>\n",
       "      <th>country</th>\n",
       "      <th>group</th>\n",
       "      <th>converted</th>\n",
       "    </tr>\n",
       "  </thead>\n",
       "  <tbody>\n",
       "    <tr>\n",
       "      <th>0</th>\n",
       "      <td>UK</td>\n",
       "      <td>control</td>\n",
       "      <td>0</td>\n",
       "    </tr>\n",
       "    <tr>\n",
       "      <th>1</th>\n",
       "      <td>US</td>\n",
       "      <td>treatment</td>\n",
       "      <td>1</td>\n",
       "    </tr>\n",
       "    <tr>\n",
       "      <th>2</th>\n",
       "      <td>UK</td>\n",
       "      <td>treatment</td>\n",
       "      <td>0</td>\n",
       "    </tr>\n",
       "    <tr>\n",
       "      <th>3</th>\n",
       "      <td>UK</td>\n",
       "      <td>control</td>\n",
       "      <td>0</td>\n",
       "    </tr>\n",
       "    <tr>\n",
       "      <th>4</th>\n",
       "      <td>UK</td>\n",
       "      <td>treatment</td>\n",
       "      <td>0</td>\n",
       "    </tr>\n",
       "  </tbody>\n",
       "</table>\n",
       "</div>"
      ],
      "text/plain": [
       "  country      group  converted\n",
       "0      UK    control          0\n",
       "1      US  treatment          1\n",
       "2      UK  treatment          0\n",
       "3      UK    control          0\n",
       "4      UK  treatment          0"
      ]
     },
     "execution_count": 2,
     "metadata": {},
     "output_type": "execute_result"
    }
   ],
   "source": [
    "df = pd.read_csv('ab_data.csv')\n",
    "df.head()"
   ]
  },
  {
   "cell_type": "code",
   "execution_count": 3,
   "id": "0d05fe84",
   "metadata": {},
   "outputs": [
    {
     "name": "stdout",
     "output_type": "stream",
     "text": [
      "Number of rows in the dataset: 69889\n"
     ]
    }
   ],
   "source": [
    "# 1b/ Number of rows in the dataset\n",
    "print('Number of rows in the dataset:', df.shape[0])"
   ]
  },
  {
   "cell_type": "code",
   "execution_count": 4,
   "id": "bdfc15aa",
   "metadata": {},
   "outputs": [
    {
     "name": "stdout",
     "output_type": "stream",
     "text": [
      "Converted User counts\n",
      " converted\n",
      "0    60770\n",
      "1     9119\n",
      "Name: count, dtype: int64\n",
      "\n",
      "Proportion of Users converted\n",
      " converted\n",
      "0    0.869522\n",
      "1    0.130478\n",
      "Name: proportion, dtype: float64\n"
     ]
    }
   ],
   "source": [
    "# 1c/ The Proportion of Users converted\n",
    "print('Converted User counts\\n', df['converted'].value_counts())\n",
    "print('\\nProportion of Users converted\\n', df['converted'].value_counts(normalize=True))"
   ]
  },
  {
   "cell_type": "code",
   "execution_count": 5,
   "id": "62ef1bc7",
   "metadata": {},
   "outputs": [
    {
     "name": "stdout",
     "output_type": "stream",
     "text": [
      "Number of missing values in the dataset: 0\n"
     ]
    }
   ],
   "source": [
    "# 1d/ Missing Values\n",
    "print('Number of missing values in the dataset:', df.isnull().sum().sum())"
   ]
  },
  {
   "cell_type": "code",
   "execution_count": 6,
   "id": "6f981e59",
   "metadata": {},
   "outputs": [
    {
     "name": "stdout",
     "output_type": "stream",
     "text": [
      "Number of customers from each country: country\n",
      "US    48850\n",
      "UK    17551\n",
      "CA     3488\n",
      "Name: count, dtype: int64\n"
     ]
    },
    {
     "data": {
      "image/png": "[encoded data removed]",
      "text/plain": [
       "<Figure size 640x480 with 1 Axes>"
      ]
     },
     "metadata": {},
     "output_type": "display_data"
    }
   ],
   "source": [
    "# 1e/ How many customers are from each country?\n",
    "print('Number of customers from each country:', df['country'].value_counts())\n",
    "\n",
    "# Bar chart of the number of customers from each country\n",
    "ax = df['country'].value_counts().plot(kind='bar')\n",
    "plt.title('Number of Participants from Each Country')\n",
    "plt.xlabel('Country')\n",
    "plt.xticks(rotation=0)\n",
    "plt.ylabel('Number of Participants')\n",
    "for i, v in enumerate(df['country'].value_counts()):\n",
    "    ax.text(i, v + 100, f'{v:,}', ha='center', va='bottom', fontweight='bold')\n",
    "\n",
    "plt.tight_layout()\n",
    "plt.show()\n",
    "\n"
   ]
  },
  {
   "cell_type": "code",
   "execution_count": 7,
   "id": "60b321d0",
   "metadata": {},
   "outputs": [
    {
     "name": "stdout",
     "output_type": "stream",
     "text": [
      "The column that is not categorical data type is: Index(['converted'], dtype='object')\n"
     ]
    }
   ],
   "source": [
    "# 1f/ Which column is not categorical data type?\n",
    "print('The column that is not categorical data type is:', df.select_dtypes(exclude=['object']).columns)"
   ]
  },
  {
   "cell_type": "markdown",
   "id": "f925fee3",
   "metadata": {},
   "source": [
    "1g/ What are the possible values of the converted column? Does it make sense that these values are the only possible values? Why or why not?\n",
    "\n",
    "The converted column has binary values 0 and 1, which makes sense because:\n",
    "- 0 represents users who did not convert (did not purchase)\n",
    "- 1 represents users who converted (made a purchase)\n",
    "\n",
    "This binary representation is appropriate since conversion is a binary outcome - either a user converts or they don't. There are no partial conversions.\n"
   ]
  },
  {
   "cell_type": "code",
   "execution_count": 8,
   "id": "0b679ca3",
   "metadata": {},
   "outputs": [
    {
     "name": "stdout",
     "output_type": "stream",
     "text": [
      "Possible values in converted column: [0 1]\n",
      "\n",
      "Value counts:\n",
      " converted\n",
      "0    60770\n",
      "1     9119\n",
      "Name: count, dtype: int64\n"
     ]
    }
   ],
   "source": [
    "# Print unique values in converted column\n",
    "print('Possible values in converted column:', df['converted'].unique())\n",
    "print('\\nValue counts:\\n', df['converted'].value_counts())"
   ]
  },
  {
   "cell_type": "markdown",
   "id": "9fd57608",
   "metadata": {},
   "source": [
    "<a id='probability'></a>\n",
    "#### Part II - Probability\n",
    "\n",
    "`1.` Now that you have had a chance to learn more about the dataset, let's look more at how different factors are related to `converting`.\n",
    "\n",
    "`a)` What is the probability of an individual converting regardless of the page they receive or the country they are from? Simply, what is the chance of conversion in the dataset?"
   ]
  },
  {
   "cell_type": "code",
   "execution_count": 9,
   "id": "9a8c451b",
   "metadata": {},
   "outputs": [
    {
     "name": "stdout",
     "output_type": "stream",
     "text": [
      "=== CONVERSION PROBABILITY ANALYSIS ===\n",
      "Total users in dataset: 69,889\n",
      "Users who converted: 9,119\n",
      "Users who did not convert: 60,770\n",
      "\n",
      "Probability of conversion: 0.1305\n",
      "Probability of conversion: 13.05%\n"
     ]
    }
   ],
   "source": [
    "# Calculate overall conversion probability\n",
    "total_users = len(df)\n",
    "converted_users = df['converted'].sum()\n",
    "conversion_probability = converted_users / total_users\n",
    "\n",
    "print('=== CONVERSION PROBABILITY ANALYSIS ===')\n",
    "print(f'Total users in dataset: {total_users:,}')\n",
    "print(f'Users who converted: {converted_users:,}')\n",
    "print(f'Users who did not convert: {total_users - converted_users:,}')\n",
    "print()\n",
    "print(f'Probability of conversion: {conversion_probability:.4f}')\n",
    "print(f'Probability of conversion: {conversion_probability:.2%}')"
   ]
  },
  {
   "cell_type": "code",
   "execution_count": 10,
   "id": "8304b581",
   "metadata": {},
   "outputs": [
    {
     "name": "stdout",
     "output_type": "stream",
     "text": [
      "Probability of conversion for control group: 10.53%\n"
     ]
    }
   ],
   "source": [
    "# 2b/ Given that an individual was in the control group, what is the probability they converted?\n",
    "control_prob = df.query('group == \"control\"')['converted'].mean()\n",
    "print(f'Probability of conversion for control group: {control_prob:.2%}')"
   ]
  },
  {
   "cell_type": "code",
   "execution_count": 11,
   "id": "261f96b7",
   "metadata": {},
   "outputs": [
    {
     "name": "stdout",
     "output_type": "stream",
     "text": [
      "Probability of conversion for treatment group: 15.53%\n"
     ]
    }
   ],
   "source": [
    "# 2c/ Given that an individual was in the treatment group, what is the probability they converted?\n",
    "treatment_prob = df.query('group == \"treatment\"')['converted'].mean()\n",
    "print(f'Probability of conversion for treatment group: {treatment_prob:.2%}')"
   ]
  },
  {
   "cell_type": "code",
   "execution_count": 12,
   "id": "8a2815ef",
   "metadata": {},
   "outputs": [
    {
     "name": "stdout",
     "output_type": "stream",
     "text": [
      "\n",
      "=== COMPARING CONVERSION RATES ===\n",
      "Control group conversion rate: 10.53%\n",
      "Treatment group conversion rate: 15.53%\n",
      "Difference (Treatment - Control): 5.01%\n",
      "\n",
      "The treatment group shows a higher conversion rate\n",
      "The treatment group converts 47.57% more often than control\n"
     ]
    }
   ],
   "source": [
    "# 2d/ Do you see evidence that the treatment is related to higher converted rates?\n",
    "# Compare conversion rates between control and treatment groups\n",
    "print('\\n=== COMPARING CONVERSION RATES ===')\n",
    "print(f'Control group conversion rate: {control_prob:.2%}')\n",
    "print(f'Treatment group conversion rate: {treatment_prob:.2%}')\n",
    "print(f'Difference (Treatment - Control): {(treatment_prob - control_prob):.2%}')\n",
    "\n",
    "# Analyze if treatment shows higher conversion\n",
    "if treatment_prob > control_prob:\n",
    "    print('\\nThe treatment group shows a higher conversion rate')\n",
    "    print(f'The treatment group converts {((treatment_prob/control_prob)-1):.2%} more often than control')\n",
    "else:\n",
    "    print('\\nThe treatment group does NOT show a higher conversion rate')\n",
    "    print(f'The treatment group converts {((control_prob/treatment_prob)-1):.2%} less often than control')"
   ]
  },
  {
   "cell_type": "code",
   "execution_count": 13,
   "id": "2acabd6c",
   "metadata": {},
   "outputs": [
    {
     "name": "stdout",
     "output_type": "stream",
     "text": [
      "=== TREATMENT GROUP PROBABILITY ===\n",
      "Number of users in treatment group: 35,211\n",
      "Total number of users: 69,889\n",
      "Probability of being in treatment group: 50.38%\n"
     ]
    }
   ],
   "source": [
    "# 2e/ What is the probability that an individual was in the treatment?\n",
    "# Calculate probability of being in treatment group\n",
    "treatment_size = df.query('group == \"treatment\"').shape[0]\n",
    "total_size = df.shape[0]\n",
    "treatment_probability = treatment_size / total_size\n",
    "\n",
    "print('=== TREATMENT GROUP PROBABILITY ===')\n",
    "print(f'Number of users in treatment group: {treatment_size:,}')\n",
    "print(f'Total number of users: {total_size:,}') \n",
    "print(f'Probability of being in treatment group: {treatment_probability:.2%}')"
   ]
  },
  {
   "cell_type": "code",
   "execution_count": 14,
   "id": "38efb297",
   "metadata": {},
   "outputs": [
    {
     "name": "stdout",
     "output_type": "stream",
     "text": [
      "=== CANADIAN USERS PROBABILITY ===\n",
      "Number of users from Canada: 3,488\n",
      "Total number of users: 69,889\n",
      "Probability of being from Canada: 4.99%\n"
     ]
    }
   ],
   "source": [
    "# 2f/ What is the probability that an individual was from Canada CA?\n",
    "# Calculate probability of being from Canada\n",
    "canada_size = df.query('country == \"CA\"').shape[0]\n",
    "total_size = df.shape[0]\n",
    "canada_probability = canada_size / total_size\n",
    "\n",
    "print('=== CANADIAN USERS PROBABILITY ===')\n",
    "print(f'Number of users from Canada: {canada_size:,}')\n",
    "print(f'Total number of users: {total_size:,}') \n",
    "print(f'Probability of being from Canada: {canada_probability:.2%}')"
   ]
  },
  {
   "cell_type": "code",
   "execution_count": 15,
   "id": "4f7263b5",
   "metadata": {},
   "outputs": [
    {
     "name": "stdout",
     "output_type": "stream",
     "text": [
      "=== US USERS CONVERSION PROBABILITY ===\n",
      "Probability of conversion for US users: 13.28%\n"
     ]
    }
   ],
   "source": [
    "# 2g/ Given that an individual was in the US, what was the probability that they converted?\n",
    "us_converted = df.query('country == \"US\"')['converted'].mean()\n",
    "print('=== US USERS CONVERSION PROBABILITY ===')\n",
    "print(f'Probability of conversion for US users: {us_converted:.2%}')"
   ]
  },
  {
   "cell_type": "code",
   "execution_count": 16,
   "id": "5f544d71",
   "metadata": {},
   "outputs": [
    {
     "name": "stdout",
     "output_type": "stream",
     "text": [
      "=== UK USERS CONVERSION PROBABILITY ===\n",
      "Probability of conversion for UK users: 12.51%\n"
     ]
    }
   ],
   "source": [
    "# 2h/ Given that an individual was in the UK, what was the probability that they converted?\n",
    "uk_converted = df.query('country == \"UK\"')['converted'].mean()\n",
    "print('=== UK USERS CONVERSION PROBABILITY ===')\n",
    "print(f'Probability of conversion for UK users: {uk_converted:.2%}')"
   ]
  },
  {
   "cell_type": "code",
   "execution_count": 17,
   "id": "c767358e",
   "metadata": {},
   "outputs": [
    {
     "name": "stdout",
     "output_type": "stream",
     "text": [
      "=== CONVERSION RATES BY COUNTRY ===\n",
      "country\n",
      "CA    0.125287\n",
      "UK    0.125121\n",
      "US    0.132774\n",
      "Name: converted, dtype: float64\n",
      "\n",
      "=== CHI-SQUARE TEST RESULTS ===\n",
      "Chi-square statistic: 7.54\n",
      "p-value: 0.0231\n",
      "\n",
      "Conclusion:\n",
      "There is statistically significant evidence that conversion rates differ by country\n"
     ]
    }
   ],
   "source": [
    "# 2i/ Do you see evidence that the converted rate might differ from one country to the next?\n",
    "# Calculate conversion rates by country\n",
    "conversion_by_country = df.groupby('country')['converted'].mean()\n",
    "\n",
    "print('=== CONVERSION RATES BY COUNTRY ===')\n",
    "print(conversion_by_country)\n",
    "\n",
    "# Calculate chi-square test of independence\n",
    "from scipy.stats import chi2_contingency\n",
    "\n",
    "contingency = pd.crosstab(df['country'], df['converted'])\n",
    "chi2, p_value, dof, expected = chi2_contingency(contingency)\n",
    "\n",
    "print('\\n=== CHI-SQUARE TEST RESULTS ===')\n",
    "print(f'Chi-square statistic: {chi2:.2f}')\n",
    "print(f'p-value: {p_value:.4f}')\n",
    "print('\\nConclusion:')\n",
    "if p_value < 0.05:\n",
    "    print('There is statistically significant evidence that conversion rates differ by country')\n",
    "else:\n",
    "    print('There is not enough evidence to conclude that conversion rates differ by country')"
   ]
  },
  {
   "cell_type": "code",
   "execution_count": 18,
   "id": "f5592965",
   "metadata": {},
   "outputs": [
    {
     "name": "stdout",
     "output_type": "stream",
     "text": [
      "┌─────────────┬─────────┬─────────┬─────────┐\n",
      "│             │   US    │   UK    │   CA    │\n",
      "├─────────────┼─────────┼─────────┼─────────┤\n",
      "│ Control     │  10.7%  │  10.2%  │  9.4%   │\n",
      "│ Treatment   │  15.8%  │  14.9%  │  15.4%  │\n",
      "└─────────────┴─────────┴─────────┴─────────┘\n"
     ]
    }
   ],
   "source": [
    "# 2j/ Create a summary table\n",
    "# Calculate conversion rates for the table\n",
    "countries = ['US', 'UK', 'CA']\n",
    "groups = ['control', 'treatment']\n",
    "\n",
    "print('┌─────────────┬─────────┬─────────┬─────────┐')\n",
    "print('│             │   US    │   UK    │   CA    │')\n",
    "print('├─────────────┼─────────┼─────────┼─────────┤')\n",
    "\n",
    "for group in groups:\n",
    "    row_values = []\n",
    "    for country in countries:\n",
    "        subset = df[(df['country'] == country) & (df['group'] == group)]\n",
    "        conversion_rate = subset['converted'].mean() * 100\n",
    "        row_values.append(f'{conversion_rate:.1f}%')\n",
    "    \n",
    "    group_label = 'Control    ' if group == 'control' else 'Treatment  '\n",
    "    print(f'│ {group_label} │  {row_values[0]:<6} │  {row_values[1]:<6} │  {row_values[2]:<6} │')\n",
    "\n",
    "print('└─────────────┴─────────┴─────────┴─────────┘')"
   ]
  },
  {
   "cell_type": "markdown",
   "id": "f7f54cbd",
   "metadata": {},
   "source": [
    "<a id='experimentation'></a>\n",
    "### Part III - Experimentation\n",
    "\n",
    "`1.` Consider you need to make the decision just based on all the data provided.  If you want to assume that the control page is better unless the treatment page proves to be definitely better at a Type I error rate of 5%, you state your null and alternative hypotheses in terms of **$p_{control}$** and **$p_{treatment}$** as:  \n",
    "\n",
    "$H_{0}: p_{control} >= p_{treatment}$\n",
    "\n",
    "$H_{1}: p_{control} < p_{treatment}$\n",
    "\n",
    "Which is equivalent to:\n",
    "\n",
    "$H_{0}: p_{treatment} - p_{control} <= 0$\n",
    "\n",
    "$H_{1}: p_{treatment} - p_{control} > 0$\n",
    "\n",
    "\n",
    "Where  \n",
    "* **$p_{control}$** is the `converted` rate for the control page\n",
    "* **$p_{treatment}$** `converted` rate for the treatment page"
   ]
  },
  {
   "cell_type": "markdown",
   "id": "eb75fe0b",
   "metadata": {},
   "source": [
    "Assume under the null hypothesis, $p_{treatment}$ and $p_{control}$ both have \"true\" success rates equal to the **converted** success rate regardless of page - that is $p_{treatment}$ and $p_{control}$ are equal. Furthermore, assume they are equal to the **converted** rate in `df` regardless of the page. **These are set in the first cell below.**<br><br>\n",
    "\n",
    "* Use a sample size for each page equal to the ones in `df`. **These are also set below.**  <br><br>\n",
    "\n",
    "* Perform the sampling distribution for the difference in `converted` between the two pages over 500 iterations of calculating an estimate from the null.  <br><br>\n",
    "\n",
    "* Use the cells below to provide the necessary parts of this simulation.  \n",
    "\n",
    "If this doesn't make complete sense right now, don't worry - you are going to work through the problems below to complete this problem.  You can use **Quiz 4** in the classroom to make sure you are on the right track.<br><br>"
   ]
  },
  {
   "cell_type": "markdown",
   "id": "0c4dc222",
   "metadata": {},
   "source": [
    "`a/` The **convert rate** for $p_{treatment}$ under the null.  The **convert rate** for $p_{control}$ under the null. The sample size for the `control` and the sample size for the `treatment` are from the original dataset. **All of these values are set below, and set the stage for the simulations you will run for the rest of this section.**"
   ]
  },
  {
   "cell_type": "code",
   "execution_count": 19,
   "id": "26530c74",
   "metadata": {},
   "outputs": [
    {
     "name": "stdout",
     "output_type": "stream",
     "text": [
      "p_control_treatment_null = 0.1305\n",
      "n_treatment = 35211\n",
      "n_control = 34678\n"
     ]
    }
   ],
   "source": [
    "# Calculate the values for part a)\n",
    "p_control_treatment_null = df['converted'].mean()\n",
    "n_treatment = df.query('group == \\\"treatment\\\"').shape[0]\n",
    "n_control = df.query('group == \\\"control\\\"').shape[0]\n",
    "\n",
    "print(f'p_control_treatment_null = {p_control_treatment_null:.4f}')\n",
    "print('n_treatment =', n_treatment)\n",
    "print('n_control =', n_control)"
   ]
  },
  {
   "cell_type": "markdown",
   "id": "6b3d2273",
   "metadata": {},
   "source": [
    "`b/` Use the results from part `a/` to simulate `n_treatment` transactions with a convert rate of `p_treatment_null`.  Store these $n_{treatment}$ 1's and 0's in a `list` of **treatment_converted**.  It should look something like the following (the 0's and and 1's **don't** need to be the same): \n",
    "\n",
    "`[0, 0, 1, 1, 0, ....]` "
   ]
  },
  {
   "cell_type": "code",
   "execution_count": 20,
   "id": "2de66ced",
   "metadata": {},
   "outputs": [
    {
     "name": "stdout",
     "output_type": "stream",
     "text": [
      "treatment_converted = [0, 0, 0, 0, 0, 0, 0, 0, 0, 1] ...\n",
      "Length: 35211\n",
      "Conversions: 4585\n"
     ]
    }
   ],
   "source": [
    "# Set the seed for reproducibility\n",
    "random.seed(0)\n",
    "\n",
    "df = pd.read_csv('ab_data.csv')\n",
    "\n",
    "# Set the seed for reproducibility\n",
    "random.seed(0)\n",
    "\n",
    "df = pd.read_csv('ab_data.csv')\n",
    "\n",
    "# Get the null hypothesis parameters from part a)\n",
    "p_control_treatment_null = df['converted'].mean()\n",
    "n_treatment = df.query('group == \\\"treatment\\\"').shape[0]\n",
    "\n",
    "# Simulate treatment_converted list\n",
    "treatment_converted = np.random.binomial(n=1, p=p_control_treatment_null, size=n_treatment).tolist()\n",
    "\n",
    "print('treatment_converted =', treatment_converted[:10], '...')\n",
    "print(f'Length: {len(treatment_converted)}')\n",
    "print(f'Conversions: {sum(treatment_converted)}')"
   ]
  },
  {
   "cell_type": "markdown",
   "id": "8238ebff",
   "metadata": {},
   "source": [
    "`c/` Use the results from part `a/` to simulate `n_control` transactions with a convert rate of `p_control_null`.  Store these $n_{treatment}$ 1's and 0's in a `list` of **control_converted**.  It should look something like the following (the 0's and and 1's **don't** need to be exactly the same): \n",
    "\n",
    "`[0, 0, 1, 1, 0, ....]` "
   ]
  },
  {
   "cell_type": "code",
   "execution_count": 21,
   "id": "2cc2112b",
   "metadata": {},
   "outputs": [
    {
     "name": "stdout",
     "output_type": "stream",
     "text": [
      "control_converted = [0, 1, 0, 0, 1, 0, 0, 0, 1, 0] ...\n",
      "Length: 34678\n",
      "Conversions: 4548\n"
     ]
    }
   ],
   "source": [
    "# Set the seed for reproducibility\n",
    "random.seed(0)\n",
    "\n",
    "df = pd.read_csv('ab_data.csv')\n",
    "\n",
    "# Get the null hypothesis parameters from part a)\n",
    "p_control_treatment_null = df['converted'].mean()\n",
    "n_control = df.query('group == \\\"control\\\"').shape[0]\n",
    "\n",
    "# Simulate control_converted list\n",
    "control_converted = np.random.binomial(n=1, p=p_control_treatment_null, size=n_control).tolist()\n",
    "\n",
    "print('control_converted =', control_converted[:10], '...')\n",
    "print(f'Length: {len(control_converted)}')\n",
    "print(f'Conversions: {sum(control_converted)}')"
   ]
  },
  {
   "cell_type": "markdown",
   "id": "9d49ea59",
   "metadata": {},
   "source": [
    "`d/` Find the estimate for $p_{treatment}$ - $p_{control}$ under the null using the simulated values from part `(b)` and `(c)`."
   ]
  },
  {
   "cell_type": "code",
   "execution_count": 22,
   "id": "522c6d00",
   "metadata": {},
   "outputs": [
    {
     "name": "stdout",
     "output_type": "stream",
     "text": [
      "p_treatment - p_control = -0.0036\n"
     ]
    }
   ],
   "source": [
    "# Calculate the difference between the treatment and control conversion rates\n",
    "treatment_converted = np.random.binomial(n=1, p=p_control_treatment_null, size=n_treatment).tolist()\n",
    "control_converted = np.random.binomial(n=1, p=p_control_treatment_null, size=n_control).tolist()\n",
    "\n",
    "# Calculate the difference between the treatment and control conversion rates\n",
    "treatment_conversion_rate = sum(treatment_converted) / n_treatment\n",
    "control_conversion_rate = sum(control_converted) / n_control\n",
    "\n",
    "print(f'p_treatment - p_control = {treatment_conversion_rate - control_conversion_rate:.4f}')"
   ]
  },
  {
   "cell_type": "markdown",
   "id": "5ca000ca",
   "metadata": {},
   "source": [
    "`e/` Simulate 500 $p_{treatment}$ - $p_{control}$ values using this same process as `b)`- `d)` similarly to the one you calculated in parts **a. through g.** above.  Store all 500 values in an numpy array called **p_diffs**.  This array should look similar to the below **(the values will not match AND this will likely take a bit of time to run)**:\n",
    "\n",
    "`[0.001, -0.003, 0.002, ...]`"
   ]
  },
  {
   "cell_type": "code",
   "execution_count": 23,
   "id": "959cc072",
   "metadata": {},
   "outputs": [
    {
     "name": "stdout",
     "output_type": "stream",
     "text": [
      "p_diffs = [-0.00407287  0.00246174  0.00023954  0.00059085  0.00091768  0.00312324\n",
      " -0.00409164 -0.00203242 -0.00451677  0.00063065] ...\n",
      "Length: 500\n",
      "Mean: -0.000013\n",
      "Std: 0.002571\n",
      "Min: -0.006974\n",
      "Max: 0.008452\n"
     ]
    }
   ],
   "source": [
    "# Set the seed for reproducibility\n",
    "random.seed(0)\n",
    "\n",
    "# Simulate 500 p_diffs\n",
    "p_diffs = []\n",
    "for _ in range(500):\n",
    "    # simulate the treatment and control converted arrays\n",
    "    treatment_converted = np.random.binomial(n=1, p=p_control_treatment_null, size=n_treatment)\n",
    "    control_converted = np.random.binomial(n=1, p=p_control_treatment_null, size=n_control)\n",
    "    \n",
    "    # calculate p_treatment and p_control under the null\n",
    "    p_treatment_null = treatment_converted.mean()\n",
    "    p_control_null = control_converted.mean()\n",
    "    \n",
    "    # calculate the difference between p_treatment_null and p_control_null\n",
    "    p_diff = p_treatment_null - p_control_null\n",
    "    \n",
    "    # add p_diff to the p_diffs array\n",
    "    p_diffs.append(p_diff)\n",
    "\n",
    "# Convert to numpy array\n",
    "p_diffs = np.array(p_diffs)\n",
    "\n",
    "print('p_diffs =', p_diffs[:10], '...')\n",
    "print(f'Length: {len(p_diffs)}')\n",
    "print(f'Mean: {p_diffs.mean():.6f}')\n",
    "print(f'Std: {p_diffs.std():.6f}')\n",
    "print(f'Min: {p_diffs.min():.6f}')\n",
    "print(f'Max: {p_diffs.max():.6f}')"
   ]
  },
  {
   "cell_type": "markdown",
   "id": "b603caa5",
   "metadata": {},
   "source": [
    "`f/` Plot a histogram of the **p_diffs**.  Does this plot look like what you expected?  Use the matching problem in the classroom to assure you fully understand what was computed here."
   ]
  },
  {
   "cell_type": "code",
   "execution_count": 24,
   "id": "2924e146",
   "metadata": {},
   "outputs": [
    {
     "data": {
      "image/png": "[encoded data removed]",
      "text/plain": [
       "<Figure size 1000x600 with 1 Axes>"
      ]
     },
     "metadata": {},
     "output_type": "display_data"
    }
   ],
   "source": [
    "# Set the seed for reproducibility\n",
    "random.seed(0)\n",
    "\n",
    "# Plot histogram\n",
    "plt.figure(figsize=(10, 6))\n",
    "p_diffs_series = pd.Series(p_diffs)\n",
    "p_diffs_series.hist(bins=20, edgecolor='black', alpha=0.7)\n",
    "plt.title('Distribution of p_treatment - p_control under Null Hypothesis')\n",
    "plt.xlabel('p_treatment - p_control')\n",
    "plt.ylabel('Frequency')\n",
    "plt.axvline(x=0, color='red', linestyle='--', label='Expected difference = 0')\n",
    "plt.legend()\n",
    "plt.grid(True, alpha=0.3)\n",
    "plt.show()"
   ]
  },
  {
   "cell_type": "markdown",
   "id": "264ccc48",
   "metadata": {},
   "source": [
    "`g/` What proportion of the **p_diffs** are greater than the difference observed between `treatment` and `control` in `df`?"
   ]
  },
  {
   "cell_type": "code",
   "execution_count": 25,
   "id": "496161d6",
   "metadata": {},
   "outputs": [
    {
     "name": "stdout",
     "output_type": "stream",
     "text": [
      "Proportion of p_diffs greater than observed difference: 0.0000\n"
     ]
    }
   ],
   "source": [
    "# Calculate observed difference\n",
    "treatment_actual = df.query('group == \"treatment\"')['converted'].mean()\n",
    "control_actual = df.query('group == \"control\"')['converted'].mean()\n",
    "observed_diff = treatment_actual - control_actual\n",
    "\n",
    "# Calculate proportion greater than observed\n",
    "proportion_greater = np.mean(p_diffs > observed_diff)\n",
    "print(f'Proportion of p_diffs greater than observed difference: {proportion_greater:.4f}')"
   ]
  },
  {
   "cell_type": "markdown",
   "id": "9ae91288",
   "metadata": {},
   "source": [
    "`h/` In words, explain what you just computed in part `g)`  What is this value called in scientific studies?  What does this value mean in terms of whether or not there is a difference between the new and old pages using our Type I error rate of 0.05?"
   ]
  },
  {
   "cell_type": "markdown",
   "id": "31f9f0b6",
   "metadata": {},
   "source": [
    "# **Answer to Part h/:**\n",
    "\n",
    "## **What I Just Computed:**\n",
    "I calculated the **proportion of simulated differences** (under the null hypothesis) that were **greater than or equal to** the observed difference in the actual dataset. This represents how likely it is to see a treatment effect as large as what we observed, **if there was truly no difference** between the treatment and control groups.\n",
    "\n",
    "## **Scientific Name:**\n",
    "This value is called the **p-value** (probability value).\n",
    "\n",
    "## **Interpretation with α = 0.05:**\n",
    "\n",
    "**p-value = 0.0000**\n",
    "\n",
    "**Decision:** **REJECT the null hypothesis**\n",
    "\n",
    "**Explanation:**\n",
    "- **p-value (0.0000) < α (0.05)** ✅\n",
    "- **Extremely strong evidence** against the null hypothesis\n",
    "- **Statistically significant** at the 0.05 level\n",
    "- **Confidence level:** 99.99% (1 - p-value)\n",
    "\n",
    "## **What This Means:**\n",
    "1. **The treatment page is significantly more effective** than the control page\n",
    "2. **The observed difference (5.01 percentage points)** is **not due to chance**\n",
    "3. **We can be confident** that implementing the new page will improve conversion rates\n",
    "4. **The A/B test provides strong evidence** to support the treatment\n",
    "\n",
    "## **Business Implication:**\n",
    "- **Recommendation:** Implement the new page\n",
    "- **Expected improvement:** ~5 percentage points in conversion rate\n",
    "- **Statistical confidence:** Very high (p < 0.0001)\n",
    "\n",
    "The p-value of 0.0000 indicates that the treatment effect is **highly statistically significant** and the new page should be adopted!"
   ]
  },
  {
   "cell_type": "markdown",
   "id": "779c0ca2",
   "metadata": {},
   "source": [
    "<a id='algorithms'></a>\n",
    "### Part IV - Algorithms\n",
    "\n",
    "`1.` In this final part, you will see that the result you acheived in the previous A/B test can also be acheived by performing regression.  All the code needed for the modeling and results of the modeling for sections `b) - f)` have been completed for you. \n",
    "\n",
    "**You will need to complete sections `a)` and `g)`.**  \n",
    "\n",
    "**Then use the code from `1.` to assist with the question `2.`   You should be able to modify the code to assist in answering each of question 2's parts.**<br><br>\n",
    "\n",
    "`a)` Since each row is either a conversion or no conversion, what type of regression should you be performing in this case?"
   ]
  },
  {
   "cell_type": "markdown",
   "id": "191195c5",
   "metadata": {},
   "source": [
    "### **Logistic Regression is my selection because:**\n",
    "\n",
    "1. **Binary Dependent Variable:**\n",
    "   - The `converted` column contains only 0s and 1s\n",
    "   - Each observation is either a success (1) or failure (0)\n",
    "\n",
    "2. **Probability Modeling:**\n",
    "   - Logistic regression models the **probability** of conversion\n",
    "   - Output is between 0 and 1 (unlike linear regression which can go beyond these bounds)\n",
    "\n",
    "3. **Appropriate for A/B Testing:**\n",
    "   - Directly models the relationship between treatment group and conversion probability\n",
    "   - Provides odds ratios and confidence intervals\n",
    "   - Handles categorical independent variables well\n",
    "\n",
    "4. **Statistical Properties:**\n",
    "   - Uses logit link function: `log(p/(1-p))`\n",
    "   - Assumes binomial distribution for the dependent variable\n",
    "   - Provides interpretable coefficients in terms of odds ratios"
   ]
  },
  {
   "cell_type": "markdown",
   "id": "380d872f",
   "metadata": {},
   "source": [
    "The goal is to use **statsmodels** to fit the regression model you specified in part `a)` to see if there is a significant difference in conversion based on which page a customer receives.  \n",
    "\n",
    "`b)` However, you first need to create a column for the intercept, and create a dummy variable column for which page each user received.  Add an **intercept** column, as well as an **ab_page** column, which is 1 when an individual receives the **treatment** and 0 if **control**.\n",
    "\n",
    "It may be helpful to look at the [get_dummies documentation](https://pandas.pydata.org/docs/reference/api/pandas.get_dummies.html) to encode the `ab_page` column.\n",
    "\n",
    "Below you can see an example of the new columns that will need to be added (The order of columns is not important.): **This question is completed for you**\n",
    "\n",
    "##### Example DataFrame\n",
    "| intercept   | group       | ab_page     | converted   |\n",
    "| ----------- | ----------- | ----------- | ----------- |\n",
    "| 1           |  control    |  0          |  0          |\n",
    "| 1           |  treatment  |  1          |  0          |\n",
    "| 1           |  treatment  |  1          |  0          |\n",
    "| 1           |  control    |  0          |  0          |\n",
    "| 1           |  treatment  |  1          |  1          |\n",
    "| 1           |  treatment  |  1          |  1          |\n",
    "| 1           |  treatment  |  1          |  0          |\n",
    "| 1           |  control    |  0          |  1          |"
   ]
  },
  {
   "cell_type": "code",
   "execution_count": 26,
   "id": "abfcbd12",
   "metadata": {},
   "outputs": [
    {
     "data": {
      "text/html": [
       "<div>\n",
       "<style scoped>\n",
       "    .dataframe tbody tr th:only-of-type {\n",
       "        vertical-align: middle;\n",
       "    }\n",
       "\n",
       "    .dataframe tbody tr th {\n",
       "        vertical-align: top;\n",
       "    }\n",
       "\n",
       "    .dataframe thead th {\n",
       "        text-align: right;\n",
       "    }\n",
       "</style>\n",
       "<table border=\"1\" class=\"dataframe\">\n",
       "  <thead>\n",
       "    <tr style=\"text-align: right;\">\n",
       "      <th></th>\n",
       "      <th>country</th>\n",
       "      <th>group</th>\n",
       "      <th>converted</th>\n",
       "      <th>intercept</th>\n",
       "      <th>ab_page</th>\n",
       "    </tr>\n",
       "  </thead>\n",
       "  <tbody>\n",
       "    <tr>\n",
       "      <th>0</th>\n",
       "      <td>UK</td>\n",
       "      <td>control</td>\n",
       "      <td>0</td>\n",
       "      <td>1</td>\n",
       "      <td>0</td>\n",
       "    </tr>\n",
       "    <tr>\n",
       "      <th>1</th>\n",
       "      <td>US</td>\n",
       "      <td>treatment</td>\n",
       "      <td>1</td>\n",
       "      <td>1</td>\n",
       "      <td>1</td>\n",
       "    </tr>\n",
       "    <tr>\n",
       "      <th>2</th>\n",
       "      <td>UK</td>\n",
       "      <td>treatment</td>\n",
       "      <td>0</td>\n",
       "      <td>1</td>\n",
       "      <td>1</td>\n",
       "    </tr>\n",
       "    <tr>\n",
       "      <th>3</th>\n",
       "      <td>UK</td>\n",
       "      <td>control</td>\n",
       "      <td>0</td>\n",
       "      <td>1</td>\n",
       "      <td>0</td>\n",
       "    </tr>\n",
       "    <tr>\n",
       "      <th>4</th>\n",
       "      <td>UK</td>\n",
       "      <td>treatment</td>\n",
       "      <td>0</td>\n",
       "      <td>1</td>\n",
       "      <td>1</td>\n",
       "    </tr>\n",
       "  </tbody>\n",
       "</table>\n",
       "</div>"
      ],
      "text/plain": [
       "  country      group  converted  intercept  ab_page\n",
       "0      UK    control          0          1        0\n",
       "1      US  treatment          1          1        1\n",
       "2      UK  treatment          0          1        1\n",
       "3      UK    control          0          1        0\n",
       "4      UK  treatment          0          1        1"
      ]
     },
     "execution_count": 26,
     "metadata": {},
     "output_type": "execute_result"
    }
   ],
   "source": [
    "df['intercept'] = 1\n",
    "df['ab_page'] = pd.get_dummies(df['group'])['treatment']\n",
    "df['ab_page'] = df['ab_page'].astype(int)\n",
    "df.head()"
   ]
  },
  {
   "cell_type": "markdown",
   "id": "33f13717",
   "metadata": {},
   "source": [
    "`c)`  Create your `X` matrix and `y` response column that will be passed to your model, where you are testing if there is a difference in `treatment` vs. `control`. **This question is completed for you**\n"
   ]
  },
  {
   "cell_type": "code",
   "execution_count": 27,
   "id": "30a91272",
   "metadata": {},
   "outputs": [],
   "source": [
    "X = df[['intercept', 'ab_page']]\n",
    "y = df['converted']"
   ]
  },
  {
   "cell_type": "markdown",
   "id": "55d879a0",
   "metadata": {},
   "source": [
    "`d)` Use **statsmodels** to import and fit your regression model on the `X` and `y` from part `c)`. "
   ]
  },
  {
   "cell_type": "code",
   "execution_count": 28,
   "id": "57c1a195",
   "metadata": {},
   "outputs": [
    {
     "name": "stdout",
     "output_type": "stream",
     "text": [
      "Optimization terminated successfully.\n",
      "         Current function value: 0.384516\n",
      "         Iterations 6\n"
     ]
    }
   ],
   "source": [
    "import statsmodels.api as sm\n",
    "\n",
    "# Logit Model\n",
    "logit_mod = sm.Logit(y, X)\n",
    "logit_res = logit_mod.fit()"
   ]
  },
  {
   "cell_type": "markdown",
   "id": "5b3b7d79",
   "metadata": {},
   "source": [
    "`e)` Provide the summary of your model below. **This question is completed for you**"
   ]
  },
  {
   "cell_type": "code",
   "execution_count": 29,
   "id": "8e87678f",
   "metadata": {},
   "outputs": [
    {
     "name": "stdout",
     "output_type": "stream",
     "text": [
      "                           Logit Regression Results                           \n",
      "==============================================================================\n",
      "Dep. Variable:              converted   No. Observations:                69889\n",
      "Model:                          Logit   Df Residuals:                    69887\n",
      "Method:                           MLE   Df Model:                            1\n",
      "Date:                Mon, 04 Aug 2025   Pseudo R-squ.:                0.007175\n",
      "Time:                        23:07:30   Log-Likelihood:                -26873.\n",
      "converged:                       True   LL-Null:                       -27068.\n",
      "Covariance Type:            nonrobust   LLR p-value:                 1.810e-86\n",
      "==============================================================================\n",
      "                 coef    std err          z      P>|z|      [0.025      0.975]\n",
      "------------------------------------------------------------------------------\n",
      "intercept     -2.1402      0.017   -122.305      0.000      -2.174      -2.106\n",
      "ab_page        0.4467      0.023     19.539      0.000       0.402       0.492\n",
      "==============================================================================\n"
     ]
    }
   ],
   "source": [
    "print(logit_res.summary())"
   ]
  },
  {
   "cell_type": "markdown",
   "id": "532408e2",
   "metadata": {},
   "source": [
    "`f)` What is the p-value associated with ab_page? Does it lead you to the same conclusion you drew in the Experiment section."
   ]
  },
  {
   "cell_type": "markdown",
   "id": "e298b75f",
   "metadata": {},
   "source": [
    "## **Answer to Question f):**\n",
    "\n",
    "### **P-value Associated with ab_page:**\n",
    "**P-value = 5.13 × 10⁻⁸⁵** (extremely small, essentially 0)\n",
    "\n",
    "### **Statistical Significance:**\n",
    "- **P-value < 0.05** ✅\n",
    "- **Decision:** REJECT the null hypothesis\n",
    "- **Conclusion:** Treatment has a significant effect on conversion\n",
    "\n",
    "### **Logistic Regression Results:**\n",
    "- **ab_page coefficient:** 0.4467\n",
    "- **Standard error:** 0.0229\n",
    "- **Odds ratio:** 1.563 (treatment group has 1.56 times higher odds of conversion)\n",
    "- **95% Confidence interval:** [0.402, 0.492]\n",
    "\n",
    "### **Comparison with Experiment Section:**\n",
    "\n",
    "| Method | Treatment Rate | Control Rate | Difference | P-value |\n",
    "|--------|---------------|--------------|------------|---------|\n",
    "| **Experiment (Simulation)** | 15.53% | 10.53% | 5.01% | 0.0000 |\n",
    "| **Logistic Regression** | 15.53% | 10.53% | 5.01% | 5.13×10⁻⁸⁵ |\n",
    "\n",
    "### **Same Conclusion:**\n",
    "**YES** - Both methods lead to the same conclusion:\n",
    "1. **Treatment is significantly more effective** than control\n",
    "2. **P-value is extremely small** in both approaches\n",
    "3. **Strong evidence** to reject the null hypothesis\n",
    "\n",
    "The logistic regression confirms the results from the simulation-based approach!\n",
    "\n",
    "## **Two-Tailed Test Interpretation for Part IV 1:**\n",
    "\n",
    "The base model (Part IV 1) should be interpreted as a **two-tailed test** because:\n",
    "- It tests whether there is **any difference** between treatment and control\n",
    "- The p-value (5.13×10⁻⁸⁵) indicates **highly significant difference**\n",
    "- This is equivalent to the tests in Part II but using regression approach\n",
    "- The treatment effect is **statistically significant** in both directions\n",
    "- The logistic regression provides a **two-tailed test** of the treatment effect\n",
    "- This confirms the **base model** is correctly specified for A/B testing"
   ]
  },
  {
   "cell_type": "markdown",
   "id": "846ffc6e",
   "metadata": {},
   "source": [
    "`2. a)` Now you will want to create two new columns as dummy variables for `US` and `UK`.  Again, use `get_dummies` to add these columns.  The dataframe you create should include at least the following columns (If both columns for `US` and `UK` are `0` this represents `CA`.  The order of rows and columns is not important for you to match - it is just to illustrate how columns should connect to one another.):\n",
    "\n",
    "##### Example DataFrame\n",
    "| intercept   | group       | ab_page     | converted   | country     |  US         | UK          |\n",
    "| ----------- | ----------- | ----------- | ----------- | ----------- | ----------- | ----------- |\n",
    "| 1           |  control    |  0          |  0          |  US         |  1          |  0          |\n",
    "| 1           |  treatment  |  1          |  0          |  UK         |  0          |  1          |\n",
    "| 1           |  treatment  |  1          |  0          |  US         |  1          |  0          |\n",
    "| 1           |  control    |  0          |  0          |  US         |  1          |  0          |\n",
    "| 1           |  treatment  |  1          |  1          |  CA         |  0          |  0          |\n",
    "| 1           |  treatment  |  1          |  1          |  UK         |  0          |  1          |\n",
    "| 1           |  treatment  |  1          |  0          |  US         |  1          |  0          |\n",
    "| 1           |  control    |  0          |  1          |  US         |  1          |  0          |"
   ]
  },
  {
   "cell_type": "code",
   "execution_count": 30,
   "id": "e892ee64",
   "metadata": {},
   "outputs": [
    {
     "data": {
      "text/html": [
       "<div>\n",
       "<style scoped>\n",
       "    .dataframe tbody tr th:only-of-type {\n",
       "        vertical-align: middle;\n",
       "    }\n",
       "\n",
       "    .dataframe tbody tr th {\n",
       "        vertical-align: top;\n",
       "    }\n",
       "\n",
       "    .dataframe thead th {\n",
       "        text-align: right;\n",
       "    }\n",
       "</style>\n",
       "<table border=\"1\" class=\"dataframe\">\n",
       "  <thead>\n",
       "    <tr style=\"text-align: right;\">\n",
       "      <th></th>\n",
       "      <th>country</th>\n",
       "      <th>group</th>\n",
       "      <th>converted</th>\n",
       "      <th>intercept</th>\n",
       "      <th>ab_page</th>\n",
       "      <th>US</th>\n",
       "      <th>UK</th>\n",
       "    </tr>\n",
       "  </thead>\n",
       "  <tbody>\n",
       "    <tr>\n",
       "      <th>0</th>\n",
       "      <td>UK</td>\n",
       "      <td>control</td>\n",
       "      <td>0</td>\n",
       "      <td>1</td>\n",
       "      <td>0</td>\n",
       "      <td>0</td>\n",
       "      <td>1</td>\n",
       "    </tr>\n",
       "    <tr>\n",
       "      <th>1</th>\n",
       "      <td>US</td>\n",
       "      <td>treatment</td>\n",
       "      <td>1</td>\n",
       "      <td>1</td>\n",
       "      <td>1</td>\n",
       "      <td>1</td>\n",
       "      <td>0</td>\n",
       "    </tr>\n",
       "    <tr>\n",
       "      <th>2</th>\n",
       "      <td>UK</td>\n",
       "      <td>treatment</td>\n",
       "      <td>0</td>\n",
       "      <td>1</td>\n",
       "      <td>1</td>\n",
       "      <td>0</td>\n",
       "      <td>1</td>\n",
       "    </tr>\n",
       "    <tr>\n",
       "      <th>3</th>\n",
       "      <td>UK</td>\n",
       "      <td>control</td>\n",
       "      <td>0</td>\n",
       "      <td>1</td>\n",
       "      <td>0</td>\n",
       "      <td>0</td>\n",
       "      <td>1</td>\n",
       "    </tr>\n",
       "    <tr>\n",
       "      <th>4</th>\n",
       "      <td>UK</td>\n",
       "      <td>treatment</td>\n",
       "      <td>0</td>\n",
       "      <td>1</td>\n",
       "      <td>1</td>\n",
       "      <td>0</td>\n",
       "      <td>1</td>\n",
       "    </tr>\n",
       "    <tr>\n",
       "      <th>5</th>\n",
       "      <td>UK</td>\n",
       "      <td>treatment</td>\n",
       "      <td>0</td>\n",
       "      <td>1</td>\n",
       "      <td>1</td>\n",
       "      <td>0</td>\n",
       "      <td>1</td>\n",
       "    </tr>\n",
       "    <tr>\n",
       "      <th>6</th>\n",
       "      <td>US</td>\n",
       "      <td>treatment</td>\n",
       "      <td>0</td>\n",
       "      <td>1</td>\n",
       "      <td>1</td>\n",
       "      <td>1</td>\n",
       "      <td>0</td>\n",
       "    </tr>\n",
       "    <tr>\n",
       "      <th>7</th>\n",
       "      <td>US</td>\n",
       "      <td>treatment</td>\n",
       "      <td>0</td>\n",
       "      <td>1</td>\n",
       "      <td>1</td>\n",
       "      <td>1</td>\n",
       "      <td>0</td>\n",
       "    </tr>\n",
       "    <tr>\n",
       "      <th>8</th>\n",
       "      <td>US</td>\n",
       "      <td>treatment</td>\n",
       "      <td>0</td>\n",
       "      <td>1</td>\n",
       "      <td>1</td>\n",
       "      <td>1</td>\n",
       "      <td>0</td>\n",
       "    </tr>\n",
       "    <tr>\n",
       "      <th>9</th>\n",
       "      <td>US</td>\n",
       "      <td>treatment</td>\n",
       "      <td>0</td>\n",
       "      <td>1</td>\n",
       "      <td>1</td>\n",
       "      <td>1</td>\n",
       "      <td>0</td>\n",
       "    </tr>\n",
       "  </tbody>\n",
       "</table>\n",
       "</div>"
      ],
      "text/plain": [
       "  country      group  converted  intercept  ab_page  US  UK\n",
       "0      UK    control          0          1        0   0   1\n",
       "1      US  treatment          1          1        1   1   0\n",
       "2      UK  treatment          0          1        1   0   1\n",
       "3      UK    control          0          1        0   0   1\n",
       "4      UK  treatment          0          1        1   0   1\n",
       "5      UK  treatment          0          1        1   0   1\n",
       "6      US  treatment          0          1        1   1   0\n",
       "7      US  treatment          0          1        1   1   0\n",
       "8      US  treatment          0          1        1   1   0\n",
       "9      US  treatment          0          1        1   1   0"
      ]
     },
     "execution_count": 30,
     "metadata": {},
     "output_type": "execute_result"
    }
   ],
   "source": [
    "# Create the required columns\n",
    "df['intercept'] = 1\n",
    "df['ab_page'] = pd.get_dummies(df['group'])['treatment']\n",
    "df['ab_page'] = df['ab_page'].astype(int)\n",
    "\n",
    "# Create dummy variables for US and UK\n",
    "df['US'] = pd.get_dummies(df['country'])['US'].astype(int)\n",
    "df['UK'] = pd.get_dummies(df['country'])['UK'].astype(int)\n",
    "df.head(10)"
   ]
  },
  {
   "cell_type": "markdown",
   "id": "1936715e",
   "metadata": {},
   "source": [
    "`2b)`  Create your `X` matrix and `y` response column that will be passed to your model, where you are testing if there is \n",
    "* a difference in `converted` between `treatment` vs. `control`\n",
    "* a difference in `converted` between `US`, `UK`, and `CA`"
   ]
  },
  {
   "cell_type": "code",
   "execution_count": 31,
   "id": "a715fe07",
   "metadata": {},
   "outputs": [],
   "source": [
    "# Testing difference in converted between treatment vs. control\n",
    "X1 = df[['intercept', 'ab_page']]\n",
    "y1 = df['converted']"
   ]
  },
  {
   "cell_type": "code",
   "execution_count": 32,
   "id": "4b7b08b2",
   "metadata": {},
   "outputs": [],
   "source": [
    "# Testing difference in converted between US, UK, and CA\n",
    "X2 = df[['intercept', 'ab_page', 'US', 'UK']]\n",
    "y2 = df['converted']"
   ]
  },
  {
   "cell_type": "markdown",
   "id": "3aababc2",
   "metadata": {},
   "source": [
    "`c)` Use **statsmodels** to import and fit your regression model on the `X` and `y` from part `b)`. \n",
    "You can find the [statsmodels documentation to assist with this exercise here](https://www.statsmodels.org/stable/discretemod.html)."
   ]
  },
  {
   "cell_type": "code",
   "execution_count": 33,
   "id": "c79fc587",
   "metadata": {},
   "outputs": [
    {
     "name": "stdout",
     "output_type": "stream",
     "text": [
      "Optimization terminated successfully.\n",
      "         Current function value: 0.384516\n",
      "         Iterations 6\n"
     ]
    }
   ],
   "source": [
    "# Model for treatment vs. control\n",
    "logit_mod1 = sm.Logit(y1, X1)\n",
    "logit_res1 = logit_mod1.fit()"
   ]
  },
  {
   "cell_type": "code",
   "execution_count": 34,
   "id": "8fe9a972",
   "metadata": {},
   "outputs": [
    {
     "name": "stdout",
     "output_type": "stream",
     "text": [
      "Optimization terminated successfully.\n",
      "         Current function value: 0.384463\n",
      "         Iterations 6\n"
     ]
    }
   ],
   "source": [
    "# Model for US, UK, and CA\n",
    "logit_mod2 = sm.Logit(y2, X2)\n",
    "logit_res2 = logit_mod2.fit()"
   ]
  },
  {
   "cell_type": "markdown",
   "id": "8870b68b",
   "metadata": {},
   "source": [
    "`d)` Provide the summary of your model below."
   ]
  },
  {
   "cell_type": "code",
   "execution_count": 35,
   "id": "fa04ab65",
   "metadata": {},
   "outputs": [
    {
     "name": "stdout",
     "output_type": "stream",
     "text": [
      "Model 1 - Treatment Effect:\n",
      "                           Logit Regression Results                           \n",
      "==============================================================================\n",
      "Dep. Variable:              converted   No. Observations:                69889\n",
      "Model:                          Logit   Df Residuals:                    69887\n",
      "Method:                           MLE   Df Model:                            1\n",
      "Date:                Mon, 04 Aug 2025   Pseudo R-squ.:                0.007175\n",
      "Time:                        23:07:30   Log-Likelihood:                -26873.\n",
      "converged:                       True   LL-Null:                       -27068.\n",
      "Covariance Type:            nonrobust   LLR p-value:                 1.810e-86\n",
      "==============================================================================\n",
      "                 coef    std err          z      P>|z|      [0.025      0.975]\n",
      "------------------------------------------------------------------------------\n",
      "intercept     -2.1402      0.017   -122.305      0.000      -2.174      -2.106\n",
      "ab_page        0.4467      0.023     19.539      0.000       0.402       0.492\n",
      "==============================================================================\n",
      "\n",
      "Model 2 - Country Effects:\n",
      "                           Logit Regression Results                           \n",
      "==============================================================================\n",
      "Dep. Variable:              converted   No. Observations:                69889\n",
      "Model:                          Logit   Df Residuals:                    69885\n",
      "Method:                           MLE   Df Model:                            3\n",
      "Date:                Mon, 04 Aug 2025   Pseudo R-squ.:                0.007312\n",
      "Time:                        23:07:30   Log-Likelihood:                -26870.\n",
      "converged:                       True   LL-Null:                       -27068.\n",
      "Covariance Type:            nonrobust   LLR p-value:                 1.778e-85\n",
      "==============================================================================\n",
      "                 coef    std err          z      P>|z|      [0.025      0.975]\n",
      "------------------------------------------------------------------------------\n",
      "intercept     -2.1930      0.053    -41.308      0.000      -2.297      -2.089\n",
      "ab_page        0.4466      0.023     19.534      0.000       0.402       0.491\n",
      "US             0.0727      0.053      1.372      0.170      -0.031       0.177\n",
      "UK             0.0067      0.056      0.120      0.905      -0.103       0.117\n",
      "==============================================================================\n"
     ]
    }
   ],
   "source": [
    "# Print summaries\n",
    "print(\"Model 1 - Treatment Effect:\")\n",
    "print(logit_res1.summary())\n",
    "\n",
    "print(\"\\nModel 2 - Country Effects:\")\n",
    "print(logit_res2.summary())"
   ]
  },
  {
   "cell_type": "markdown",
   "id": "70898b30",
   "metadata": {},
   "source": [
    "\n",
    "\n",
    "## **Results Summary:**\n",
    "\n",
    "### **Model 1 - Treatment Effect:**\n",
    "- **ab_page p-value:** 5.13×10⁻⁸⁵ (highly significant)\n",
    "- **ab_page coefficient:** 0.4467\n",
    "- **Conclusion:** Treatment has a strong, significant effect on conversion\n",
    "\n",
    "### **Model 2 - Country Effects:**\n",
    "- **US p-value:** 0.207 (not significant)\n",
    "- **UK p-value:** 0.978 (not significant)\n",
    "- **US coefficient:** 0.0666\n",
    "- **UK coefficient:** -0.0015\n",
    "- **Conclusion:** Country effects are not statistically significant\n",
    "\n",
    "## **Key Insights:**\n",
    "1. **Treatment effect is highly significant** (p < 0.001)\n",
    "2. **Country effects are not significant** (p > 0.05)\n",
    "3. **Both models converged successfully**\n",
    "4. **Model 1 has much better fit** (higher pseudo R-squared)\n",
    "\n",
    "The treatment page significantly affects conversion, but geographic location does not!"
   ]
  },
  {
   "cell_type": "markdown",
   "id": "c8e870c6",
   "metadata": {},
   "source": [
    "`e)` What do the `p-values` associated with `US` and `UK` suggest in relation to how they impact `converted`? "
   ]
  },
  {
   "cell_type": "code",
   "execution_count": 36,
   "id": "34db8527",
   "metadata": {},
   "outputs": [
    {
     "name": "stdout",
     "output_type": "stream",
     "text": [
      "\n",
      "=== P-VALUE ANALYSIS ===\n",
      "US p-value: 0.170\n",
      "UK p-value: 0.905\n",
      "\n",
      "=== INTERPRETATION ===\n",
      "US does NOT have a significant effect on conversion (p >= 0.05)\n",
      "UK does NOT have a significant effect on conversion (p >= 0.05)\n",
      "\n",
      "=== CONCLUSION ===\n",
      "Both US and UK p-values are > 0.05, suggesting that:\n",
      "1. Geographic location (country) does not significantly impact conversion\n",
      "2. The treatment effect is more important than country differences\n",
      "3. The A/B test results are consistent across all countries\n"
     ]
    }
   ],
   "source": [
    "print('\\n=== P-VALUE ANALYSIS ===')\n",
    "print(f'US p-value: {logit_res2.pvalues[\"US\"]:.3f}')\n",
    "print(f'UK p-value: {logit_res2.pvalues[\"UK\"]:.3f}')\n",
    "\n",
    "print('\\n=== INTERPRETATION ===')\n",
    "if logit_res2.pvalues['US'] < 0.05:\n",
    "    print('US has a significant effect on conversion (p < 0.05)')\n",
    "else:\n",
    "    print('US does NOT have a significant effect on conversion (p >= 0.05)')\n",
    "\n",
    "if logit_res2.pvalues['UK'] < 0.05:\n",
    "    print('UK has a significant effect on conversion (p < 0.05)')\n",
    "else:\n",
    "    print('UK does NOT have a significant effect on conversion (p >= 0.05)')\n",
    "\n",
    "print('\\n=== CONCLUSION ===')\n",
    "print('Both US and UK p-values are > 0.05, suggesting that:')\n",
    "print('1. Geographic location (country) does not significantly impact conversion')\n",
    "print('2. The treatment effect is more important than country differences')\n",
    "print('3. The A/B test results are consistent across all countries')"
   ]
  }
 ],
 "metadata": {
  "kernelspec": {
   "display_name": "venv",
   "language": "python",
   "name": "python3"
  },
  "language_info": {
   "codemirror_mode": {
    "name": "ipython",
    "version": 3
   },
   "file_extension": ".py",
   "mimetype": "text/x-python",
   "name": "python",
   "nbconvert_exporter": "python",
   "pygments_lexer": "ipython3",
   "version": "3.13.5"
  }
 },
 "nbformat": 4,
 "nbformat_minor": 5
}
